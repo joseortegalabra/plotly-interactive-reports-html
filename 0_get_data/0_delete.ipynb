{
 "cells": [
  {
   "cell_type": "markdown",
   "id": "ca0125aa-ad5e-4fd1-b71d-325d259631c4",
   "metadata": {},
   "source": [
    "# delete notebook"
   ]
  },
  {
   "cell_type": "code",
   "execution_count": 1,
   "id": "ca014af6-f557-43bd-8cc7-1e2643e44591",
   "metadata": {},
   "outputs": [],
   "source": [
    "# this is a test notebook, delete that"
   ]
  },
  {
   "cell_type": "code",
   "execution_count": 3,
   "id": "b10dd628-b360-4659-bc25-29c7cdeab712",
   "metadata": {},
   "outputs": [],
   "source": [
    "key_word = 'key_word_1'"
   ]
  },
  {
   "cell_type": "code",
   "execution_count": null,
   "id": "aa5ffc18-4374-43e1-adf8-4716aa142280",
   "metadata": {},
   "outputs": [],
   "source": []
  }
 ],
 "metadata": {
  "kernelspec": {
   "display_name": "Python 3 (ipykernel)",
   "language": "python",
   "name": "python3"
  },
  "language_info": {
   "codemirror_mode": {
    "name": "ipython",
    "version": 3
   },
   "file_extension": ".py",
   "mimetype": "text/x-python",
   "name": "python",
   "nbconvert_exporter": "python",
   "pygments_lexer": "ipython3",
   "version": "3.10.14"
  }
 },
 "nbformat": 4,
 "nbformat_minor": 5
}
