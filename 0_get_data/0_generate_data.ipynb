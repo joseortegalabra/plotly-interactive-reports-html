{
 "cells": [
  {
   "cell_type": "markdown",
   "id": "1e6a79b4-5bd1-4280-9a56-d6d27ca74045",
   "metadata": {},
   "source": [
    "# Generate data to plot\n",
    "In this example 5 features will be generated.\n",
    "\n",
    "The idea is that the last 3 features will be plot its trend across the time. And aditional the initial 2 features can be plotted in the plot according the interest of the user.\n",
    "\n",
    "In this example I will use time series data getting from yahoo finances"
   ]
  },
  {
   "cell_type": "code",
   "execution_count": 1,
   "id": "1cbbb1fd-99ae-4ea8-9041-e3a37acd5fee",
   "metadata": {
    "scrolled": true
   },
   "outputs": [
    {
     "name": "stdout",
     "output_type": "stream",
     "text": [
      "root path:  /Users/joseortega/Documents/GitHub/Plotly-interactive-reports\n"
     ]
    }
   ],
   "source": [
    "import os\n",
    "# fix root path to save outputs\n",
    "actual_path = os.path.abspath(os.getcwd())\n",
    "list_root_path = actual_path.split('/')[:-1]\n",
    "root_path = '/'.join(list_root_path)\n",
    "os.chdir(root_path)\n",
    "print('root path: ', root_path)"
   ]
  },
  {
   "cell_type": "code",
   "execution_count": null,
   "id": "975f2768-f7ba-483d-b430-26261ec7296d",
   "metadata": {},
   "outputs": [],
   "source": []
  },
  {
   "cell_type": "markdown",
   "id": "da30b133-fc20-4ded-985d-545d639dced8",
   "metadata": {},
   "source": [
    "## RUN"
   ]
  },
  {
   "cell_type": "code",
   "execution_count": 2,
   "id": "5ff48c79-e291-4ad2-94b6-e6e3d4f32e19",
   "metadata": {},
   "outputs": [],
   "source": [
    "# !pip install yfinance"
   ]
  },
  {
   "cell_type": "code",
   "execution_count": 3,
   "id": "83b3b7bc-478a-481a-af0f-1b12ed409f23",
   "metadata": {},
   "outputs": [],
   "source": [
    "import pandas as pd\n",
    "import numpy as np\n",
    "import yfinance as yf"
   ]
  },
  {
   "cell_type": "code",
   "execution_count": null,
   "id": "eb57b74f-b7f0-4f19-b0a6-4b7d5f17d346",
   "metadata": {},
   "outputs": [],
   "source": []
  },
  {
   "cell_type": "code",
   "execution_count": null,
   "id": "830f89dc-09d6-40fa-b1f5-b0ce0e058124",
   "metadata": {},
   "outputs": [],
   "source": []
  },
  {
   "cell_type": "markdown",
   "id": "ec07a16a-fdcf-4856-b774-f0d9d2e12282",
   "metadata": {},
   "source": [
    "### 0. Index data time series\n",
    "Day data"
   ]
  },
  {
   "cell_type": "code",
   "execution_count": 4,
   "id": "fc2388f8-1750-4dad-97b6-36f95ebdfd3b",
   "metadata": {},
   "outputs": [],
   "source": [
    "# start date and end datedate_range\n",
    "start_date = '2023-08-28'\n",
    "end_date = '2024-03-23'\n",
    "\n",
    "# generate date range\n",
    "date_range = pd.date_range(start=start_date, end=end_date, freq='D')\n",
    "\n",
    "# show\n",
    "#print(date_range)"
   ]
  },
  {
   "cell_type": "code",
   "execution_count": null,
   "id": "bc0a280a-1edd-446c-8897-52786b01b58c",
   "metadata": {},
   "outputs": [],
   "source": []
  },
  {
   "cell_type": "markdown",
   "id": "78d05dad-c86a-479d-bbd8-e515680267ec",
   "metadata": {},
   "source": [
    "### 1. Generate 1° feature - syp500 stock price"
   ]
  },
  {
   "cell_type": "code",
   "execution_count": 5,
   "id": "4dbaaaa3-10fd-4c31-94f8-1d0a948288a1",
   "metadata": {},
   "outputs": [
    {
     "name": "stderr",
     "output_type": "stream",
     "text": [
      "[*********************100%%**********************]  1 of 1 completed\n"
     ]
    }
   ],
   "source": [
    "# Especifica el símbolo bursátil de la empresa\n",
    "symbol = \"^GSPC\"\n",
    "\n",
    "# Descarga los datos históricos utilizando yfinance\n",
    "stock_data = yf.download(symbol, \n",
    "                         start = start_date, \n",
    "                         end = end_date\n",
    "                        )\n",
    "\n",
    "# Crea un DataFrame de pandas con los datos descargados\n",
    "data_feature = pd.DataFrame(stock_data)\n",
    "\n",
    "# get close price to data\n",
    "data_feature1 = data_feature[['Close']]\n",
    "data_feature1.columns = [symbol]"
   ]
  },
  {
   "cell_type": "code",
   "execution_count": null,
   "id": "27ab5d63-ae9e-492c-9553-fb3e3d0c1643",
   "metadata": {},
   "outputs": [],
   "source": []
  },
  {
   "cell_type": "markdown",
   "id": "dad330c3-29f6-4bcc-9914-89bc137bcfab",
   "metadata": {},
   "source": [
    "### 1. Generate 2° feature - nasdaq 100"
   ]
  },
  {
   "cell_type": "code",
   "execution_count": 6,
   "id": "08e57cad-c2cd-429a-835b-b0ac34792f71",
   "metadata": {},
   "outputs": [
    {
     "name": "stderr",
     "output_type": "stream",
     "text": [
      "[*********************100%%**********************]  1 of 1 completed\n"
     ]
    }
   ],
   "source": [
    "# Especifica el símbolo bursátil de la empresa\n",
    "symbol = \"^NDX\"\n",
    "\n",
    "# Descarga los datos históricos utilizando yfinance\n",
    "stock_data = yf.download(symbol, \n",
    "                         start = start_date, \n",
    "                         end = end_date\n",
    "                        )\n",
    "\n",
    "# Crea un DataFrame de pandas con los datos descargados\n",
    "data_feature = pd.DataFrame(stock_data)\n",
    "\n",
    "# get close price to data\n",
    "data_feature2 = data_feature[['Close']]\n",
    "data_feature2.columns = [symbol]"
   ]
  },
  {
   "cell_type": "code",
   "execution_count": null,
   "id": "f222fb3d-5fce-4453-a9f3-c0775bc76804",
   "metadata": {},
   "outputs": [],
   "source": []
  },
  {
   "cell_type": "markdown",
   "id": "1805cf3f-3379-4a1c-a40b-102d73519e75",
   "metadata": {},
   "source": [
    "### 3. Generate 3° feature - Dow Jones Industrial Average (^DJI"
   ]
  },
  {
   "cell_type": "code",
   "execution_count": 7,
   "id": "492e6473-a750-4c17-8d68-3e950de3950c",
   "metadata": {},
   "outputs": [
    {
     "name": "stderr",
     "output_type": "stream",
     "text": [
      "[*********************100%%**********************]  1 of 1 completed\n"
     ]
    }
   ],
   "source": [
    "# Especifica el símbolo bursátil de la empresa\n",
    "symbol = \"^DJI\"\n",
    "\n",
    "# Descarga los datos históricos utilizando yfinance\n",
    "stock_data = yf.download(symbol, \n",
    "                         start = start_date, \n",
    "                         end = end_date\n",
    "                        )\n",
    "\n",
    "# Crea un DataFrame de pandas con los datos descargados\n",
    "data_feature = pd.DataFrame(stock_data)\n",
    "\n",
    "# get close price to data\n",
    "data_feature3 = data_feature[['Close']]\n",
    "data_feature3.columns = [symbol]"
   ]
  },
  {
   "cell_type": "code",
   "execution_count": null,
   "id": "cef22f51-8d85-4125-adbb-0fd3dd41a4d6",
   "metadata": {},
   "outputs": [],
   "source": []
  },
  {
   "cell_type": "code",
   "execution_count": null,
   "id": "e8367021-838b-4843-acd8-dd44ce74ae02",
   "metadata": {},
   "outputs": [],
   "source": []
  },
  {
   "cell_type": "code",
   "execution_count": null,
   "id": "48ca84dc-cbb9-4614-a7ae-f058d9ebce45",
   "metadata": {},
   "outputs": [],
   "source": []
  },
  {
   "cell_type": "markdown",
   "id": "e8c1656a-d452-4831-9607-5b1cd0adf2c4",
   "metadata": {},
   "source": [
    "### 4. Generate 4° feature - stock prices to comapre the index prices: nvidia stock price"
   ]
  },
  {
   "cell_type": "code",
   "execution_count": 8,
   "id": "ebddb7e9-c973-4d9e-942e-3a05e5334ff6",
   "metadata": {},
   "outputs": [
    {
     "name": "stderr",
     "output_type": "stream",
     "text": [
      "[*********************100%%**********************]  1 of 1 completed\n"
     ]
    }
   ],
   "source": [
    "# Especifica el símbolo bursátil de la empresa\n",
    "symbol = \"NVDA\"\n",
    "\n",
    "# Descarga los datos históricos utilizando yfinance\n",
    "stock_data = yf.download(symbol, \n",
    "                         start = start_date, \n",
    "                         end = end_date\n",
    "                        )\n",
    "\n",
    "# Crea un DataFrame de pandas con los datos descargados\n",
    "data_feature = pd.DataFrame(stock_data)\n",
    "\n",
    "# get close price to data\n",
    "data_feature4 = data_feature[['Close']]\n",
    "data_feature4.columns = [symbol]"
   ]
  },
  {
   "cell_type": "code",
   "execution_count": null,
   "id": "3f5c87e8-53e5-45fd-9c4f-2f1f5f0935e4",
   "metadata": {},
   "outputs": [],
   "source": []
  },
  {
   "cell_type": "code",
   "execution_count": null,
   "id": "000a2e24-ebf5-4503-b37e-6aef7335dc21",
   "metadata": {},
   "outputs": [],
   "source": []
  },
  {
   "cell_type": "code",
   "execution_count": null,
   "id": "d9e2b578-ce33-4aff-8c6c-bf6c3fc1e0c3",
   "metadata": {},
   "outputs": [],
   "source": []
  },
  {
   "cell_type": "markdown",
   "id": "9ae6a315-3265-4041-a704-439fe600e720",
   "metadata": {},
   "source": [
    "### 5. Generate 5° feature - stock prices to comapre the index prices: apple stock price"
   ]
  },
  {
   "cell_type": "code",
   "execution_count": 9,
   "id": "c1766159-ad9f-433e-8217-634911fa357e",
   "metadata": {},
   "outputs": [
    {
     "name": "stderr",
     "output_type": "stream",
     "text": [
      "[*********************100%%**********************]  1 of 1 completed\n"
     ]
    }
   ],
   "source": [
    "# Especifica el símbolo bursátil de la empresa\n",
    "symbol = \"AAPL\"\n",
    "\n",
    "# Descarga los datos históricos utilizando yfinance\n",
    "stock_data = yf.download(symbol, \n",
    "                         start = start_date, \n",
    "                         end = end_date\n",
    "                        )\n",
    "\n",
    "# Crea un DataFrame de pandas con los datos descargados\n",
    "data_feature = pd.DataFrame(stock_data)\n",
    "\n",
    "# get close price to data\n",
    "data_feature5 = data_feature[['Close']]\n",
    "data_feature5.columns = [symbol]"
   ]
  },
  {
   "cell_type": "code",
   "execution_count": null,
   "id": "3c5ee361-7a28-4749-8c31-c7b1dc6fa4ee",
   "metadata": {},
   "outputs": [],
   "source": []
  },
  {
   "cell_type": "markdown",
   "id": "b14b432c-8a58-4775-a25b-3bb584baa3bf",
   "metadata": {},
   "source": [
    "### 6. Generate 6° feature - stock prices to comapre the index prices: TSLA stock price"
   ]
  },
  {
   "cell_type": "code",
   "execution_count": 10,
   "id": "210459e2-e06a-4fd0-84e3-427ada383f81",
   "metadata": {},
   "outputs": [
    {
     "name": "stderr",
     "output_type": "stream",
     "text": [
      "[*********************100%%**********************]  1 of 1 completed\n"
     ]
    }
   ],
   "source": [
    "# Especifica el símbolo bursátil de la empresa\n",
    "symbol = \"TSLA\"\n",
    "\n",
    "# Descarga los datos históricos utilizando yfinance\n",
    "stock_data = yf.download(symbol, \n",
    "                         start = start_date, \n",
    "                         end = end_date\n",
    "                        )\n",
    "\n",
    "# Crea un DataFrame de pandas con los datos descargados\n",
    "data_feature = pd.DataFrame(stock_data)\n",
    "\n",
    "# get close price to data\n",
    "data_feature6 = data_feature[['Close']]\n",
    "data_feature6.columns = [symbol]"
   ]
  },
  {
   "cell_type": "code",
   "execution_count": null,
   "id": "6987d613-db7b-4858-a300-2234c9833b87",
   "metadata": {},
   "outputs": [],
   "source": []
  },
  {
   "cell_type": "markdown",
   "id": "9f35954b-76ff-4e1a-b41b-620f33bcdb09",
   "metadata": {},
   "source": [
    "### 7. Join into one dataframe"
   ]
  },
  {
   "cell_type": "code",
   "execution_count": 11,
   "id": "9879ab9b-d948-4007-b0b6-77322d3bcd55",
   "metadata": {},
   "outputs": [],
   "source": [
    "data = pd.DataFrame(index = date_range)"
   ]
  },
  {
   "cell_type": "code",
   "execution_count": 12,
   "id": "c8de9192-1222-4a66-8c79-d9aa5ceca1c6",
   "metadata": {},
   "outputs": [],
   "source": [
    "data = pd.merge(data, data_feature1, left_index=True, right_index=True)\n",
    "data = pd.merge(data, data_feature2, left_index=True, right_index=True)\n",
    "data = pd.merge(data, data_feature3, left_index=True, right_index=True)\n",
    "data = pd.merge(data, data_feature4, left_index=True, right_index=True)\n",
    "data = pd.merge(data, data_feature5, left_index=True, right_index=True)\n",
    "data = pd.merge(data, data_feature6, left_index=True, right_index=True)"
   ]
  },
  {
   "cell_type": "code",
   "execution_count": 13,
   "id": "9fee7b9b-c7ed-4d76-abf0-efe26c9a69ad",
   "metadata": {},
   "outputs": [
    {
     "data": {
      "text/html": [
       "<div>\n",
       "<style scoped>\n",
       "    .dataframe tbody tr th:only-of-type {\n",
       "        vertical-align: middle;\n",
       "    }\n",
       "\n",
       "    .dataframe tbody tr th {\n",
       "        vertical-align: top;\n",
       "    }\n",
       "\n",
       "    .dataframe thead th {\n",
       "        text-align: right;\n",
       "    }\n",
       "</style>\n",
       "<table border=\"1\" class=\"dataframe\">\n",
       "  <thead>\n",
       "    <tr style=\"text-align: right;\">\n",
       "      <th></th>\n",
       "      <th>^GSPC</th>\n",
       "      <th>^NDX</th>\n",
       "      <th>^DJI</th>\n",
       "      <th>NVDA</th>\n",
       "      <th>AAPL</th>\n",
       "      <th>TSLA</th>\n",
       "    </tr>\n",
       "  </thead>\n",
       "  <tbody>\n",
       "    <tr>\n",
       "      <th>2023-08-28</th>\n",
       "      <td>4433.310059</td>\n",
       "      <td>15052.459961</td>\n",
       "      <td>34559.980469</td>\n",
       "      <td>468.350006</td>\n",
       "      <td>180.190002</td>\n",
       "      <td>238.820007</td>\n",
       "    </tr>\n",
       "    <tr>\n",
       "      <th>2023-08-29</th>\n",
       "      <td>4497.629883</td>\n",
       "      <td>15376.549805</td>\n",
       "      <td>34852.671875</td>\n",
       "      <td>487.839996</td>\n",
       "      <td>184.119995</td>\n",
       "      <td>257.179993</td>\n",
       "    </tr>\n",
       "    <tr>\n",
       "      <th>2023-08-30</th>\n",
       "      <td>4514.870117</td>\n",
       "      <td>15462.429688</td>\n",
       "      <td>34890.238281</td>\n",
       "      <td>492.640015</td>\n",
       "      <td>187.649994</td>\n",
       "      <td>256.899994</td>\n",
       "    </tr>\n",
       "    <tr>\n",
       "      <th>2023-08-31</th>\n",
       "      <td>4507.660156</td>\n",
       "      <td>15501.070312</td>\n",
       "      <td>34721.910156</td>\n",
       "      <td>493.549988</td>\n",
       "      <td>187.869995</td>\n",
       "      <td>258.079987</td>\n",
       "    </tr>\n",
       "    <tr>\n",
       "      <th>2023-09-01</th>\n",
       "      <td>4515.770020</td>\n",
       "      <td>15490.860352</td>\n",
       "      <td>34837.710938</td>\n",
       "      <td>485.089996</td>\n",
       "      <td>189.460007</td>\n",
       "      <td>245.009995</td>\n",
       "    </tr>\n",
       "    <tr>\n",
       "      <th>...</th>\n",
       "      <td>...</td>\n",
       "      <td>...</td>\n",
       "      <td>...</td>\n",
       "      <td>...</td>\n",
       "      <td>...</td>\n",
       "      <td>...</td>\n",
       "    </tr>\n",
       "    <tr>\n",
       "      <th>2024-03-18</th>\n",
       "      <td>5149.419922</td>\n",
       "      <td>17985.009766</td>\n",
       "      <td>38790.429688</td>\n",
       "      <td>884.549988</td>\n",
       "      <td>173.720001</td>\n",
       "      <td>173.800003</td>\n",
       "    </tr>\n",
       "    <tr>\n",
       "      <th>2024-03-19</th>\n",
       "      <td>5178.509766</td>\n",
       "      <td>18032.199219</td>\n",
       "      <td>39110.761719</td>\n",
       "      <td>893.979980</td>\n",
       "      <td>176.080002</td>\n",
       "      <td>171.320007</td>\n",
       "    </tr>\n",
       "    <tr>\n",
       "      <th>2024-03-20</th>\n",
       "      <td>5224.620117</td>\n",
       "      <td>18240.109375</td>\n",
       "      <td>39512.128906</td>\n",
       "      <td>903.719971</td>\n",
       "      <td>178.669998</td>\n",
       "      <td>175.660004</td>\n",
       "    </tr>\n",
       "    <tr>\n",
       "      <th>2024-03-21</th>\n",
       "      <td>5241.529785</td>\n",
       "      <td>18320.380859</td>\n",
       "      <td>39781.371094</td>\n",
       "      <td>914.349976</td>\n",
       "      <td>171.369995</td>\n",
       "      <td>172.820007</td>\n",
       "    </tr>\n",
       "    <tr>\n",
       "      <th>2024-03-22</th>\n",
       "      <td>5234.180176</td>\n",
       "      <td>18339.439453</td>\n",
       "      <td>39475.898438</td>\n",
       "      <td>942.890015</td>\n",
       "      <td>172.279999</td>\n",
       "      <td>170.830002</td>\n",
       "    </tr>\n",
       "  </tbody>\n",
       "</table>\n",
       "<p>144 rows × 6 columns</p>\n",
       "</div>"
      ],
      "text/plain": [
       "                  ^GSPC          ^NDX          ^DJI        NVDA        AAPL  \\\n",
       "2023-08-28  4433.310059  15052.459961  34559.980469  468.350006  180.190002   \n",
       "2023-08-29  4497.629883  15376.549805  34852.671875  487.839996  184.119995   \n",
       "2023-08-30  4514.870117  15462.429688  34890.238281  492.640015  187.649994   \n",
       "2023-08-31  4507.660156  15501.070312  34721.910156  493.549988  187.869995   \n",
       "2023-09-01  4515.770020  15490.860352  34837.710938  485.089996  189.460007   \n",
       "...                 ...           ...           ...         ...         ...   \n",
       "2024-03-18  5149.419922  17985.009766  38790.429688  884.549988  173.720001   \n",
       "2024-03-19  5178.509766  18032.199219  39110.761719  893.979980  176.080002   \n",
       "2024-03-20  5224.620117  18240.109375  39512.128906  903.719971  178.669998   \n",
       "2024-03-21  5241.529785  18320.380859  39781.371094  914.349976  171.369995   \n",
       "2024-03-22  5234.180176  18339.439453  39475.898438  942.890015  172.279999   \n",
       "\n",
       "                  TSLA  \n",
       "2023-08-28  238.820007  \n",
       "2023-08-29  257.179993  \n",
       "2023-08-30  256.899994  \n",
       "2023-08-31  258.079987  \n",
       "2023-09-01  245.009995  \n",
       "...                ...  \n",
       "2024-03-18  173.800003  \n",
       "2024-03-19  171.320007  \n",
       "2024-03-20  175.660004  \n",
       "2024-03-21  172.820007  \n",
       "2024-03-22  170.830002  \n",
       "\n",
       "[144 rows x 6 columns]"
      ]
     },
     "execution_count": 13,
     "metadata": {},
     "output_type": "execute_result"
    }
   ],
   "source": [
    "data"
   ]
  },
  {
   "cell_type": "code",
   "execution_count": 14,
   "id": "9e484508-004e-4d56-ae47-7f74b7b80dce",
   "metadata": {},
   "outputs": [
    {
     "data": {
      "text/plain": [
       "^GSPC    0\n",
       "^NDX     0\n",
       "^DJI     0\n",
       "NVDA     0\n",
       "AAPL     0\n",
       "TSLA     0\n",
       "dtype: int64"
      ]
     },
     "execution_count": 14,
     "metadata": {},
     "output_type": "execute_result"
    }
   ],
   "source": [
    "data.isnull().sum()"
   ]
  },
  {
   "cell_type": "code",
   "execution_count": null,
   "id": "025d5c71-f92d-436c-a38b-726c023e5ebc",
   "metadata": {},
   "outputs": [],
   "source": []
  },
  {
   "cell_type": "markdown",
   "id": "07999a63-2976-423a-8b81-4abcae325b01",
   "metadata": {},
   "source": [
    "### 8. Save data as pkl"
   ]
  },
  {
   "cell_type": "code",
   "execution_count": 15,
   "id": "e7c8f05c-f8de-4cfd-92ae-cb1303f03c7b",
   "metadata": {},
   "outputs": [],
   "source": [
    "path_data = 'data/data.pkl'\n",
    "data.to_pickle(path_data)"
   ]
  },
  {
   "cell_type": "code",
   "execution_count": null,
   "id": "aba5c78c-78de-4b2b-987b-ef4614d7c1b8",
   "metadata": {},
   "outputs": [],
   "source": []
  },
  {
   "cell_type": "code",
   "execution_count": null,
   "id": "74b73132-3e8c-4d47-b4ed-347f1287e7b6",
   "metadata": {},
   "outputs": [],
   "source": []
  },
  {
   "cell_type": "markdown",
   "id": "9a719bff-04b2-46e6-9c4e-2600b2b00b50",
   "metadata": {},
   "source": [
    "## Generate a config file\n",
    "Generate a configuration file to indicate which are the principal features to plot and which features are the secondary that it will use as auxiliar info to compare with the principal features"
   ]
  },
  {
   "cell_type": "code",
   "execution_count": 16,
   "id": "d7f3388d-2a94-4384-a6ac-a124e2570295",
   "metadata": {},
   "outputs": [],
   "source": [
    "# the last column indicate if the trend is principal and plot always or it is secondary as auxiliar and use to explain the principal features"
   ]
  },
  {
   "cell_type": "code",
   "execution_count": 17,
   "id": "650054dc-65cb-4ac4-b359-dc0546d031de",
   "metadata": {},
   "outputs": [
    {
     "data": {
      "text/html": [
       "<div>\n",
       "<style scoped>\n",
       "    .dataframe tbody tr th:only-of-type {\n",
       "        vertical-align: middle;\n",
       "    }\n",
       "\n",
       "    .dataframe tbody tr th {\n",
       "        vertical-align: top;\n",
       "    }\n",
       "\n",
       "    .dataframe thead th {\n",
       "        text-align: right;\n",
       "    }\n",
       "</style>\n",
       "<table border=\"1\" class=\"dataframe\">\n",
       "  <thead>\n",
       "    <tr style=\"text-align: right;\">\n",
       "      <th></th>\n",
       "      <th>stock</th>\n",
       "      <th>name_to_show</th>\n",
       "      <th>show_report</th>\n",
       "    </tr>\n",
       "  </thead>\n",
       "  <tbody>\n",
       "    <tr>\n",
       "      <th>0</th>\n",
       "      <td>^GSPC</td>\n",
       "      <td>s&amp;p500</td>\n",
       "      <td>Yes</td>\n",
       "    </tr>\n",
       "    <tr>\n",
       "      <th>1</th>\n",
       "      <td>^NDX</td>\n",
       "      <td>nazdaq100</td>\n",
       "      <td>Yes</td>\n",
       "    </tr>\n",
       "    <tr>\n",
       "      <th>2</th>\n",
       "      <td>^DJI</td>\n",
       "      <td>downjones</td>\n",
       "      <td>Yes</td>\n",
       "    </tr>\n",
       "    <tr>\n",
       "      <th>3</th>\n",
       "      <td>NVDA</td>\n",
       "      <td>nvidia</td>\n",
       "      <td>No</td>\n",
       "    </tr>\n",
       "    <tr>\n",
       "      <th>4</th>\n",
       "      <td>AAPL</td>\n",
       "      <td>apple</td>\n",
       "      <td>No</td>\n",
       "    </tr>\n",
       "    <tr>\n",
       "      <th>5</th>\n",
       "      <td>TSLA</td>\n",
       "      <td>tesla</td>\n",
       "      <td>No</td>\n",
       "    </tr>\n",
       "  </tbody>\n",
       "</table>\n",
       "</div>"
      ],
      "text/plain": [
       "   stock name_to_show show_report\n",
       "0  ^GSPC       s&p500         Yes\n",
       "1   ^NDX    nazdaq100         Yes\n",
       "2   ^DJI    downjones         Yes\n",
       "3   NVDA       nvidia          No\n",
       "4   AAPL        apple          No\n",
       "5   TSLA        tesla          No"
      ]
     },
     "execution_count": 17,
     "metadata": {},
     "output_type": "execute_result"
    }
   ],
   "source": [
    "df_show_report = pd.DataFrame()\n",
    "df_show_report['stock'] = [\"^GSPC\", \"^NDX\", \"^DJI\", \"NVDA\", \"AAPL\", \"TSLA\"]\n",
    "df_show_report['name_to_show'] = [\"s&p500\", \"nazdaq100\", \"downjones\", \"nvidia\", \"apple\", \"tesla\"]\n",
    "df_show_report['show_report'] = [ \"Yes\", \"Yes\", \"Yes\", \"No\", \"No\", \"No\"]\n",
    "df_show_report"
   ]
  },
  {
   "cell_type": "code",
   "execution_count": 18,
   "id": "69b551ff-3e98-4701-b14a-3910223c8e2c",
   "metadata": {},
   "outputs": [],
   "source": [
    "# save\n",
    "path_config_file = 'data/config_show_report.xlsx'\n",
    "df_show_report.to_excel(path_config_file, index = True)"
   ]
  },
  {
   "cell_type": "code",
   "execution_count": null,
   "id": "045a998a-9c87-4784-b11d-ac210ed1ff90",
   "metadata": {},
   "outputs": [],
   "source": []
  },
  {
   "cell_type": "code",
   "execution_count": null,
   "id": "7afda5e5-0421-4614-96d5-7486268a59dd",
   "metadata": {},
   "outputs": [],
   "source": []
  }
 ],
 "metadata": {
  "kernelspec": {
   "display_name": "Python 3 (ipykernel)",
   "language": "python",
   "name": "python3"
  },
  "language_info": {
   "codemirror_mode": {
    "name": "ipython",
    "version": 3
   },
   "file_extension": ".py",
   "mimetype": "text/x-python",
   "name": "python",
   "nbconvert_exporter": "python",
   "pygments_lexer": "ipython3",
   "version": "3.10.14"
  }
 },
 "nbformat": 4,
 "nbformat_minor": 5
}
